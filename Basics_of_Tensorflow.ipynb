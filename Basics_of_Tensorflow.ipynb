{
  "nbformat": 4,
  "nbformat_minor": 0,
  "metadata": {
    "colab": {
      "provenance": []
    },
    "kernelspec": {
      "name": "python3",
      "display_name": "Python 3"
    },
    "language_info": {
      "name": "python"
    }
  },
  "cells": [
    {
      "cell_type": "code",
      "execution_count": 1,
      "metadata": {
        "id": "9EGRgIdgZBPA"
      },
      "outputs": [],
      "source": [
        "import tensorflow as tf"
      ]
    },
    {
      "cell_type": "code",
      "source": [
        "hello=tf.constant(\"Hello World\")\n",
        "print(hello)"
      ],
      "metadata": {
        "colab": {
          "base_uri": "https://localhost:8080/"
        },
        "id": "g8HWp2uRcrdU",
        "outputId": "355bf0cc-aa74-4e19-b61a-4c56d978995f"
      },
      "execution_count": 3,
      "outputs": [
        {
          "output_type": "stream",
          "name": "stdout",
          "text": [
            "tf.Tensor(b'Hello World', shape=(), dtype=string)\n"
          ]
        }
      ]
    },
    {
      "cell_type": "code",
      "source": [
        "print(hello.numpy())"
      ],
      "metadata": {
        "colab": {
          "base_uri": "https://localhost:8080/"
        },
        "id": "1gkb9VrZc4Hx",
        "outputId": "2e586337-166d-4d7e-ea97-5de8cab3a57b"
      },
      "execution_count": 5,
      "outputs": [
        {
          "output_type": "stream",
          "name": "stdout",
          "text": [
            "b'Hello World'\n"
          ]
        }
      ]
    },
    {
      "cell_type": "markdown",
      "source": [
        "Basic tensor Operations\n"
      ],
      "metadata": {
        "id": "or0eosNwdVRd"
      }
    },
    {
      "cell_type": "code",
      "source": [
        "a=tf.constant(2)\n",
        "b=tf.constant(3)\n",
        "c=tf.constant(5)"
      ],
      "metadata": {
        "id": "0BPNAc5AdPBw"
      },
      "execution_count": 6,
      "outputs": []
    },
    {
      "cell_type": "code",
      "source": [
        "#various tensor operations.\n",
        "add=tf.add(a,b)\n",
        "sub=tf.subtract(a,b)\n",
        "multi=tf.multiply(a,b)\n",
        "div=tf.divide(a,b)"
      ],
      "metadata": {
        "id": "8Gd65LJ5dubZ"
      },
      "execution_count": 8,
      "outputs": []
    },
    {
      "cell_type": "code",
      "source": [
        "print(add)\n",
        "print(\"Add:\",add.numpy())\n",
        "print(\"Subtract:\",sub.numpy())\n",
        "print(\"Multiplication:\",multi.numpy())\n",
        "print(\"Division:\",div.numpy())\n"
      ],
      "metadata": {
        "colab": {
          "base_uri": "https://localhost:8080/"
        },
        "id": "uqzhQXW-d1ok",
        "outputId": "5aa5f34c-22e3-4eab-c273-7f141f79879c"
      },
      "execution_count": 12,
      "outputs": [
        {
          "output_type": "stream",
          "name": "stdout",
          "text": [
            "tf.Tensor(5, shape=(), dtype=int32)\n",
            "Add: 5\n",
            "Subtract: -1\n",
            "Multiplication: 6\n",
            "Division: 0.6666666666666666\n"
          ]
        }
      ]
    },
    {
      "cell_type": "code",
      "source": [
        "mean=tf.reduce_mean([a,b,c])\n",
        "sum=tf.reduce_sum([a,b,c])\n",
        "print(\"Mean: \",mean.numpy())\n",
        "print(\"Sum: \",sum.numpy())"
      ],
      "metadata": {
        "colab": {
          "base_uri": "https://localhost:8080/"
        },
        "id": "Gu-91PngeMli",
        "outputId": "32707308-668c-4c6b-bd39-b1783b415490"
      },
      "execution_count": 15,
      "outputs": [
        {
          "output_type": "stream",
          "name": "stdout",
          "text": [
            "Mean:  3\n",
            "Sum:  10\n"
          ]
        }
      ]
    },
    {
      "cell_type": "code",
      "source": [
        "matrix1=tf.constant([[1,2],[3,4]])\n",
        "matrix2=tf.constant([[5,6],[7,8]])\n",
        "matrix_product=tf.matmul(matrix1,matrix2)"
      ],
      "metadata": {
        "colab": {
          "base_uri": "https://localhost:8080/"
        },
        "id": "bSeP0roFezWX",
        "outputId": "64e6700c-1a83-4014-9ce5-7de30108cb8c"
      },
      "execution_count": 17,
      "outputs": [
        {
          "output_type": "stream",
          "name": "stdout",
          "text": [
            "Matrix Product:  [[19 22]\n",
            " [43 50]]\n"
          ]
        }
      ]
    },
    {
      "cell_type": "code",
      "source": [
        "matrix_product"
      ],
      "metadata": {
        "colab": {
          "base_uri": "https://localhost:8080/"
        },
        "id": "4PKEDNbfff-L",
        "outputId": "e1518a7e-74c3-4a12-9fae-b1c41760a366"
      },
      "execution_count": 18,
      "outputs": [
        {
          "output_type": "execute_result",
          "data": {
            "text/plain": [
              "<tf.Tensor: shape=(2, 2), dtype=int32, numpy=\n",
              "array([[19, 22],\n",
              "       [43, 50]], dtype=int32)>"
            ]
          },
          "metadata": {},
          "execution_count": 18
        }
      ]
    },
    {
      "cell_type": "code",
      "source": [
        "print(matrix_product.numpy())"
      ],
      "metadata": {
        "colab": {
          "base_uri": "https://localhost:8080/"
        },
        "id": "dm7oZ4IXfqxh",
        "outputId": "1e2323ba-7feb-4ab2-f1e6-4e2eb22c9a39"
      },
      "execution_count": 20,
      "outputs": [
        {
          "output_type": "stream",
          "name": "stdout",
          "text": [
            "[[19 22]\n",
            " [43 50]]\n"
          ]
        }
      ]
    },
    {
      "cell_type": "code",
      "source": [
        "print(\"Matrix Product: \",matrix_product.numpy())"
      ],
      "metadata": {
        "colab": {
          "base_uri": "https://localhost:8080/"
        },
        "id": "-R2dBFCifaUZ",
        "outputId": "bca45cee-ddd7-4043-98ec-64ffc85ecca8"
      },
      "execution_count": 21,
      "outputs": [
        {
          "output_type": "stream",
          "name": "stdout",
          "text": [
            "Matrix Product:  [[19 22]\n",
            " [43 50]]\n"
          ]
        }
      ]
    },
    {
      "cell_type": "code",
      "source": [],
      "metadata": {
        "id": "NckjN7BFhr7d"
      },
      "execution_count": null,
      "outputs": []
    },
    {
      "cell_type": "markdown",
      "source": [
        "**Lab 1**"
      ],
      "metadata": {
        "id": "c-0KGND8hujh"
      }
    },
    {
      "cell_type": "code",
      "source": [
        "import tensorflow as tf\n",
        "import numpy as np"
      ],
      "metadata": {
        "id": "iSS93OjUhqbO"
      },
      "execution_count": 23,
      "outputs": []
    },
    {
      "cell_type": "code",
      "source": [
        "#X: independent Variable (input)\n",
        "#Y: Dependent Variable (target/output), defined as y=4* X +2\n",
        "x=np.array([1,2,3,4,5],dtype=np.float32)\n",
        "y=np.array([6,10,14,18,22],dtype=np.float32)"
      ],
      "metadata": {
        "id": "GmAJO7QQh6i7"
      },
      "execution_count": 24,
      "outputs": []
    },
    {
      "cell_type": "code",
      "source": [
        "#Define the model\n",
        "#A simple model with dense Layer and one unit, suitable for linear regression\n",
        "model=tf.keras.Sequential([\n",
        "                           tf.keras.layers.Dense(1, input_shape=(1,))])"
      ],
      "metadata": {
        "colab": {
          "base_uri": "https://localhost:8080/"
        },
        "id": "OcL_37MWiXxo",
        "outputId": "0345cc80-0e75-490a-a6fc-35933c75e571"
      },
      "execution_count": 28,
      "outputs": [
        {
          "output_type": "stream",
          "name": "stderr",
          "text": [
            "/usr/local/lib/python3.10/dist-packages/keras/src/layers/core/dense.py:87: UserWarning: Do not pass an `input_shape`/`input_dim` argument to a layer. When using Sequential models, prefer using an `Input(shape)` object as the first layer in the model instead.\n",
            "  super().__init__(activity_regularizer=activity_regularizer, **kwargs)\n"
          ]
        }
      ]
    },
    {
      "cell_type": "code",
      "source": [
        "#compile the model\n",
        "#using 'sgd' optimizer and mean_sqaured_error\n",
        "model.compile(optimizer='sgd',loss='mean_squared_error')"
      ],
      "metadata": {
        "id": "4_dNI7Rcj7Ce"
      },
      "execution_count": 37,
      "outputs": []
    },
    {
      "cell_type": "code",
      "source": [
        "#Train the model\n",
        "#Fit the model to the data of 100 epochs\n",
        "model.fit(x,y,epochs=100,verbose=0)  #verbose will hide the training part"
      ],
      "metadata": {
        "colab": {
          "base_uri": "https://localhost:8080/"
        },
        "id": "v6ORy2lri92X",
        "outputId": "3e27f10c-b071-47e2-d5fa-dfb04b166f22"
      },
      "execution_count": 39,
      "outputs": [
        {
          "output_type": "execute_result",
          "data": {
            "text/plain": [
              "<keras.src.callbacks.history.History at 0x7d4a8eb1d270>"
            ]
          },
          "metadata": {},
          "execution_count": 39
        }
      ]
    },
    {
      "cell_type": "code",
      "source": [
        "#Predict\n",
        "#using the model to predict for new input data\n",
        "X_new=np.array([6,7,8],dtype=np.float32)\n",
        "predictions=model.predict(X_new)"
      ],
      "metadata": {
        "colab": {
          "base_uri": "https://localhost:8080/"
        },
        "id": "wHvuToH7jpXd",
        "outputId": "8dcf0609-2e30-4be8-9529-c5811d3bb206"
      },
      "execution_count": 40,
      "outputs": [
        {
          "output_type": "stream",
          "name": "stdout",
          "text": [
            "\u001b[1m1/1\u001b[0m \u001b[32m━━━━━━━━━━━━━━━━━━━━\u001b[0m\u001b[37m\u001b[0m \u001b[1m0s\u001b[0m 65ms/step\n"
          ]
        }
      ]
    },
    {
      "cell_type": "code",
      "source": [
        "print(\"Predictions [6,7,8]:\",predictions)\n",
        "print(\"Predictions [6,7,8]:\",predictions.squeeze())"
      ],
      "metadata": {
        "colab": {
          "base_uri": "https://localhost:8080/"
        },
        "id": "HmgdMAFblIjF",
        "outputId": "9804a07d-739a-42ee-ee88-bb509bc86bfe"
      },
      "execution_count": 43,
      "outputs": [
        {
          "output_type": "stream",
          "name": "stdout",
          "text": [
            "Predictions [6,7,8]: [[26.112133]\n",
            " [30.159056]\n",
            " [34.205982]]\n",
            "Predictions [6,7,8]: [26.112133 30.159056 34.205982]\n"
          ]
        }
      ]
    },
    {
      "cell_type": "markdown",
      "source": [
        "**Lab 2**"
      ],
      "metadata": {
        "id": "2eastV9LlpsG"
      }
    },
    {
      "cell_type": "code",
      "source": [
        "import tensorflow as tf\n",
        "import numpy as np"
      ],
      "metadata": {
        "id": "luvvXzm6lR14"
      },
      "execution_count": 53,
      "outputs": []
    },
    {
      "cell_type": "code",
      "source": [
        "#Here we took 2 features\n",
        "X1=np.array([1,2,3,4,5,6,7,8,9,10],dtype=np.float32)\n",
        "X2=np.array([1,2,3,4,5,6,7,8,9,10],dtype=np.float32)"
      ],
      "metadata": {
        "id": "3a5Zc0sWluac"
      },
      "execution_count": 54,
      "outputs": []
    },
    {
      "cell_type": "code",
      "source": [
        "#Stack X1 and X2 to form a 2D array of Shape(5,2)\n",
        "X=np.column_stack((X1,X2))"
      ],
      "metadata": {
        "id": "tr6c-BaMl9iw"
      },
      "execution_count": 55,
      "outputs": []
    },
    {
      "cell_type": "code",
      "source": [
        "# Traget values (y) with some relationship with X1 and X2\n",
        "y=3*X1+2*X2+1"
      ],
      "metadata": {
        "id": "ORUsAw7QmYWT"
      },
      "execution_count": 56,
      "outputs": []
    },
    {
      "cell_type": "code",
      "source": [
        "model=tf.keras.Sequential([tf.keras.layers.Dense(1,input_shape=(2,))])"
      ],
      "metadata": {
        "colab": {
          "base_uri": "https://localhost:8080/"
        },
        "id": "K9UOd4XynAkD",
        "outputId": "16aff92a-9425-49b6-9fc4-b9ac1e0750b7"
      },
      "execution_count": 57,
      "outputs": [
        {
          "output_type": "stream",
          "name": "stderr",
          "text": [
            "/usr/local/lib/python3.10/dist-packages/keras/src/layers/core/dense.py:87: UserWarning: Do not pass an `input_shape`/`input_dim` argument to a layer. When using Sequential models, prefer using an `Input(shape)` object as the first layer in the model instead.\n",
            "  super().__init__(activity_regularizer=activity_regularizer, **kwargs)\n"
          ]
        }
      ]
    },
    {
      "cell_type": "code",
      "source": [
        "model.compile(optimizer='sgd',loss='mean_squared_error')"
      ],
      "metadata": {
        "id": "DMouYcl9nNOL"
      },
      "execution_count": 58,
      "outputs": []
    },
    {
      "cell_type": "code",
      "source": [
        "model.fit(X,y,epochs=100,verbose=0)"
      ],
      "metadata": {
        "colab": {
          "base_uri": "https://localhost:8080/"
        },
        "id": "gopcRhF3nSe8",
        "outputId": "46344c55-5462-40b1-e694-ab5cd5a84ed2"
      },
      "execution_count": 59,
      "outputs": [
        {
          "output_type": "execute_result",
          "data": {
            "text/plain": [
              "<keras.src.callbacks.history.History at 0x7d4a8ed5add0>"
            ]
          },
          "metadata": {},
          "execution_count": 59
        }
      ]
    },
    {
      "cell_type": "code",
      "source": [
        "X_new=np.array([[6,0],[7,-1],[8,-2]],dtype=np.float32)\n",
        "predictions=model.predict(X_new)"
      ],
      "metadata": {
        "colab": {
          "base_uri": "https://localhost:8080/"
        },
        "id": "gHsAkreDngit",
        "outputId": "6738b438-c45c-4aea-c699-ade9f962455d"
      },
      "execution_count": 60,
      "outputs": [
        {
          "output_type": "stream",
          "name": "stdout",
          "text": [
            "\u001b[1m1/1\u001b[0m \u001b[32m━━━━━━━━━━━━━━━━━━━━\u001b[0m\u001b[37m\u001b[0m \u001b[1m0s\u001b[0m 91ms/step\n"
          ]
        }
      ]
    },
    {
      "cell_type": "code",
      "source": [
        "print(\"Predictions:\",predictions.squeeze())"
      ],
      "metadata": {
        "colab": {
          "base_uri": "https://localhost:8080/"
        },
        "id": "XVuBfpvVqAjt",
        "outputId": "2389846d-7c3d-425e-83a5-11770ca99f43"
      },
      "execution_count": 62,
      "outputs": [
        {
          "output_type": "stream",
          "name": "stdout",
          "text": [
            "Predictions: [12.474282 11.384994 10.295705]\n"
          ]
        }
      ]
    },
    {
      "cell_type": "code",
      "source": [
        "#Assignment\n",
        "#y=2x-1\n",
        "X=np.array([1,2,3,4,5,6,7,8],dtype=np.float32)\n",
        "y=np.array([1,3,5,7,9,11,13,15],dtype=np.float32)"
      ],
      "metadata": {
        "id": "6q7ZvDqpqD54"
      },
      "execution_count": 70,
      "outputs": []
    },
    {
      "cell_type": "code",
      "source": [
        "model=tf.keras.Sequential([tf.keras.layers.Dense(1,input_shape=(1,))])"
      ],
      "metadata": {
        "colab": {
          "base_uri": "https://localhost:8080/"
        },
        "id": "zBdAk43rqapV",
        "outputId": "94f28ede-af56-46bc-ec4f-866d8ca590ee"
      },
      "execution_count": 71,
      "outputs": [
        {
          "output_type": "stream",
          "name": "stderr",
          "text": [
            "/usr/local/lib/python3.10/dist-packages/keras/src/layers/core/dense.py:87: UserWarning: Do not pass an `input_shape`/`input_dim` argument to a layer. When using Sequential models, prefer using an `Input(shape)` object as the first layer in the model instead.\n",
            "  super().__init__(activity_regularizer=activity_regularizer, **kwargs)\n"
          ]
        }
      ]
    },
    {
      "cell_type": "code",
      "source": [
        "model.compile(optimizer='sgd',loss='mean_squared_error')"
      ],
      "metadata": {
        "id": "PWolWtU7qwUQ"
      },
      "execution_count": 72,
      "outputs": []
    },
    {
      "cell_type": "code",
      "source": [
        "model.fit(X,y,epochs=100,verbose=0)"
      ],
      "metadata": {
        "colab": {
          "base_uri": "https://localhost:8080/"
        },
        "id": "_7kjlcR9q3rg",
        "outputId": "0a9155d1-23bd-430b-b17c-0f93b5b1bc5a"
      },
      "execution_count": 73,
      "outputs": [
        {
          "output_type": "execute_result",
          "data": {
            "text/plain": [
              "<keras.src.callbacks.history.History at 0x7d4a8afce8f0>"
            ]
          },
          "metadata": {},
          "execution_count": 73
        }
      ]
    },
    {
      "cell_type": "code",
      "source": [
        "X_new=np.array([9,10,11],dtype=np.float32)\n",
        "predictions=model.predict(X_new)"
      ],
      "metadata": {
        "colab": {
          "base_uri": "https://localhost:8080/"
        },
        "id": "lQ_YLibhq7ff",
        "outputId": "0d256111-a8a6-4747-ea46-bfce1dc94d31"
      },
      "execution_count": 76,
      "outputs": [
        {
          "output_type": "stream",
          "name": "stdout",
          "text": [
            "\u001b[1m1/1\u001b[0m \u001b[32m━━━━━━━━━━━━━━━━━━━━\u001b[0m\u001b[37m\u001b[0m \u001b[1m0s\u001b[0m 22ms/step\n"
          ]
        }
      ]
    },
    {
      "cell_type": "code",
      "source": [
        "print(predictions.squeeze())"
      ],
      "metadata": {
        "colab": {
          "base_uri": "https://localhost:8080/"
        },
        "id": "IPSBHeSorCp2",
        "outputId": "0ef3befe-0409-4a36-bbb8-69941cb51850"
      },
      "execution_count": 78,
      "outputs": [
        {
          "output_type": "stream",
          "name": "stdout",
          "text": [
            "[16.569096 18.441523 20.31395 ]\n"
          ]
        }
      ]
    }
  ]
}